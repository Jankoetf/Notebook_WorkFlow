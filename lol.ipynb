{
  "nbformat": 4,
  "nbformat_minor": 0,
  "metadata": {
    "colab": {
      "provenance": [],
      "authorship_tag": "ABX9TyM1AQuOXbieLfYyCNqLGmes"
    },
    "kernelspec": {
      "name": "python3",
      "display_name": "Python 3"
    },
    "language_info": {
      "name": "python"
    }
  },
  "cells": [
    {
      "cell_type": "code",
      "source": [
        "a = \"baba\"\n",
        "print(a)"
      ],
      "metadata": {
        "id": "7Ni6x-ONWeaw",
        "colab": {
          "base_uri": "https://localhost:8080/"
        },
        "outputId": "98dfe3cd-4191-4bc3-afcd-383a1d41bfcb"
      },
      "execution_count": null,
      "outputs": [
        {
          "output_type": "stream",
          "name": "stdout",
          "text": [
            "baba\n"
          ]
        }
      ]
    }
  ]
}