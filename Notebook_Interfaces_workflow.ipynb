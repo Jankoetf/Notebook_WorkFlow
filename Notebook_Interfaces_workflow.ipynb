{
  "nbformat": 4,
  "nbformat_minor": 0,
  "metadata": {
    "colab": {
      "provenance": []
    },
    "kernelspec": {
      "name": "python3",
      "display_name": "Python 3"
    },
    "language_info": {
      "name": "python"
    }
  },
  "cells": [
    {
      "cell_type": "markdown",
      "source": [
        "# Google colab, Jypiter trics | workflow, (Jupyter-based environments)"
      ],
      "metadata": {
        "id": "VH1FNwdEIamw"
      }
    },
    {
      "cell_type": "markdown",
      "source": [
        "In this notebook, I will share with you tips that I often use and wish I had known earlier"
      ],
      "metadata": {
        "id": "gAvKE2ZkLFAJ"
      }
    },
    {
      "cell_type": "code",
      "source": [
        "import numpy as np\n",
        "import matplotlib.pyplot as plt"
      ],
      "metadata": {
        "id": "e-iy9qZFgjzF"
      },
      "execution_count": 2,
      "outputs": []
    },
    {
      "cell_type": "markdown",
      "source": [
        "## Magic Words"
      ],
      "metadata": {
        "id": "JL2HHdyCgSz0"
      }
    },
    {
      "cell_type": "markdown",
      "source": [
        "There are two types of magic words:\n",
        "* Line magic commands - they starts with % and they are applied to one line\n",
        "* Cell magic comands - they starts with %% and they are applied to the whole cell, also they need to be the first item in the cell to function properly\n",
        "* If you want to see documentation for some specific magic word you can type: **%magic_word?**, also if you want to see list of all magic words just type: **%lsmagic**\n",
        "\n"
      ],
      "metadata": {
        "id": "slq7hzZkz2Xa"
      }
    },
    {
      "cell_type": "markdown",
      "source": [
        "### **%timeit** and **%%timeit**\n",
        "* they measure average time of execution of line(%timeit) or cell(%%timeit)\n",
        "* they dont execute code(except print, plot etc...)"
      ],
      "metadata": {
        "id": "3ktMPZUvzMsh"
      }
    },
    {
      "cell_type": "code",
      "source": [
        "nums = list(range(10))\n",
        "nums_np = np.array(nums)"
      ],
      "metadata": {
        "id": "iqz5myNDgqHc"
      },
      "execution_count": 47,
      "outputs": []
    },
    {
      "cell_type": "code",
      "execution_count": 26,
      "metadata": {
        "colab": {
          "base_uri": "https://localhost:8080/"
        },
        "id": "9jCoMCPAgQK0",
        "outputId": "290d81ed-5c84-42f8-9d11-9ad3d2ce7eec"
      },
      "outputs": [
        {
          "output_type": "stream",
          "name": "stdout",
          "text": [
            "3.01 µs ± 35.8 ns per loop (mean ± std. dev. of 7 runs, 100000 loops each)\n",
            "618 ns ± 39.3 ns per loop (mean ± std. dev. of 7 runs, 1000000 loops each)\n"
          ]
        }
      ],
      "source": [
        "# example: list comprehension vs numpy\n",
        "%timeit L1 = [n ** 2 for n in nums]\n",
        "%timeit L2 = nums_np**2"
      ]
    },
    {
      "cell_type": "markdown",
      "source": [
        "### **%%capture**"
      ],
      "metadata": {
        "id": "7BTdXM5oCjTW"
      }
    },
    {
      "cell_type": "markdown",
      "source": [
        "* This comand execute code and captures output. The captured content includes anything that would normally be printed out by the cell's code (like print statements, warnings, plots etc...)\n",
        "* Just type %%capture at the beggining of cell - there will be no output when you run the cell\n",
        "* Optional you can use: %%capture var_name, to store captured content for later in var_name\n",
        "* There is no 'line capture command'(there is only cell capture)\n"
      ],
      "metadata": {
        "id": "IHWYOD5ECoSV"
      }
    },
    {
      "cell_type": "code",
      "source": [
        "%%capture captured\n",
        "#there will be no output, content inside print will be saved in captured\n",
        "print(\"Plotting\")\n",
        "plt.plot([0, 10], [np.arange(10), np.arange(10)**2])\n",
        "plt.plot(np.arange(10), np.arange(10)**2)\n",
        "plt.show()"
      ],
      "metadata": {
        "id": "mFORvMzrCnw1"
      },
      "execution_count": 76,
      "outputs": []
    },
    {
      "cell_type": "code",
      "source": [
        "print(type(captured), captured, [s for s in str(captured)])"
      ],
      "metadata": {
        "colab": {
          "base_uri": "https://localhost:8080/"
        },
        "id": "kBfcp6PWFpyo",
        "outputId": "ace58b80-1ca6-4f0d-ad0a-3926bbc3e0e1"
      },
      "execution_count": 77,
      "outputs": [
        {
          "output_type": "stream",
          "name": "stdout",
          "text": [
            "<class 'IPython.utils.capture.CapturedIO'> Plotting\n",
            " ['P', 'l', 'o', 't', 't', 'i', 'n', 'g', '\\n']\n"
          ]
        }
      ]
    },
    {
      "cell_type": "markdown",
      "source": [
        "You can see here all magic commands"
      ],
      "metadata": {
        "id": "3ZewxKaZWkR1"
      }
    },
    {
      "cell_type": "code",
      "source": [
        "%lsmagic"
      ],
      "metadata": {
        "colab": {
          "base_uri": "https://localhost:8080/",
          "height": 312
        },
        "id": "tzHCsSiftCsA",
        "outputId": "d5a45694-d97e-451f-968c-4ed71ce803a0"
      },
      "execution_count": 22,
      "outputs": [
        {
          "output_type": "execute_result",
          "data": {
            "text/plain": [
              "Available line magics:\n",
              "%alias  %alias_magic  %autoawait  %autocall  %automagic  %autosave  %bookmark  %cat  %cd  %clear  %colors  %conda  %config  %connect_info  %cp  %debug  %dhist  %dirs  %doctest_mode  %ed  %edit  %env  %gui  %hist  %history  %killbgscripts  %ldir  %less  %lf  %lk  %ll  %load  %load_ext  %loadpy  %logoff  %logon  %logstart  %logstate  %logstop  %ls  %lsmagic  %lx  %macro  %magic  %man  %matplotlib  %mkdir  %more  %mv  %notebook  %page  %pastebin  %pdb  %pdef  %pdoc  %pfile  %pinfo  %pinfo2  %pip  %popd  %pprint  %precision  %prun  %psearch  %psource  %pushd  %pwd  %pycat  %pylab  %qtconsole  %quickref  %recall  %rehashx  %reload_ext  %rep  %rerun  %reset  %reset_selective  %rm  %rmdir  %run  %save  %sc  %set_env  %shell  %store  %sx  %system  %tb  %tensorflow_version  %time  %timeit  %unalias  %unload_ext  %who  %who_ls  %whos  %xdel  %xmode\n",
              "\n",
              "Available cell magics:\n",
              "%%!  %%HTML  %%SVG  %%bash  %%bigquery  %%capture  %%debug  %%file  %%html  %%javascript  %%js  %%latex  %%markdown  %%perl  %%prun  %%pypy  %%python  %%python2  %%python3  %%ruby  %%script  %%sh  %%shell  %%svg  %%sx  %%system  %%time  %%timeit  %%writefile\n",
              "\n",
              "Automagic is ON, % prefix IS NOT needed for line magics."
            ],
            "application/json": {
              "line": {
                "automagic": "AutoMagics",
                "autocall": "AutoMagics",
                "alias_magic": "BasicMagics",
                "lsmagic": "BasicMagics",
                "magic": "BasicMagics",
                "page": "BasicMagics",
                "pprint": "BasicMagics",
                "colors": "BasicMagics",
                "xmode": "BasicMagics",
                "quickref": "BasicMagics",
                "doctest_mode": "BasicMagics",
                "gui": "BasicMagics",
                "precision": "BasicMagics",
                "notebook": "BasicMagics",
                "save": "CodeMagics",
                "pastebin": "CodeMagics",
                "loadpy": "CodeMagics",
                "load": "CodeMagics",
                "edit": "KernelMagics",
                "config": "ConfigMagics",
                "prun": "ExecutionMagics",
                "pdb": "ExecutionMagics",
                "debug": "ExecutionMagics",
                "tb": "ExecutionMagics",
                "run": "ExecutionMagics",
                "timeit": "ExecutionMagics",
                "time": "ExecutionMagics",
                "macro": "ExecutionMagics",
                "load_ext": "ExtensionMagics",
                "unload_ext": "ExtensionMagics",
                "reload_ext": "ExtensionMagics",
                "history": "HistoryMagics",
                "recall": "HistoryMagics",
                "rerun": "HistoryMagics",
                "logstart": "LoggingMagics",
                "logstop": "LoggingMagics",
                "logoff": "LoggingMagics",
                "logon": "LoggingMagics",
                "logstate": "LoggingMagics",
                "pinfo": "NamespaceMagics",
                "pinfo2": "NamespaceMagics",
                "pdef": "NamespaceMagics",
                "pdoc": "NamespaceMagics",
                "psource": "NamespaceMagics",
                "pfile": "NamespaceMagics",
                "psearch": "NamespaceMagics",
                "who_ls": "NamespaceMagics",
                "who": "NamespaceMagics",
                "whos": "NamespaceMagics",
                "reset": "NamespaceMagics",
                "reset_selective": "NamespaceMagics",
                "xdel": "NamespaceMagics",
                "alias": "OSMagics",
                "unalias": "OSMagics",
                "rehashx": "OSMagics",
                "pwd": "OSMagics",
                "cd": "OSMagics",
                "env": "OSMagics",
                "set_env": "OSMagics",
                "pushd": "OSMagics",
                "popd": "OSMagics",
                "dirs": "OSMagics",
                "dhist": "OSMagics",
                "sc": "OSMagics",
                "sx": "OSMagics",
                "system": "OSMagics",
                "bookmark": "OSMagics",
                "pycat": "OSMagics",
                "pip": "Other",
                "conda": "PackagingMagics",
                "matplotlib": "PylabMagics",
                "pylab": "PylabMagics",
                "killbgscripts": "ScriptMagics",
                "autoawait": "AsyncMagics",
                "ed": "Other",
                "hist": "Other",
                "rep": "Other",
                "clear": "KernelMagics",
                "less": "KernelMagics",
                "more": "KernelMagics",
                "man": "KernelMagics",
                "connect_info": "KernelMagics",
                "qtconsole": "KernelMagics",
                "autosave": "KernelMagics",
                "mkdir": "Other",
                "rmdir": "Other",
                "mv": "Other",
                "rm": "Other",
                "cp": "Other",
                "cat": "Other",
                "ls": "Other",
                "ll": "Other",
                "lf": "Other",
                "lk": "Other",
                "ldir": "Other",
                "lx": "Other",
                "store": "StoreMagics",
                "shell": "Other",
                "tensorflow_version": "Other"
              },
              "cell": {
                "js": "DisplayMagics",
                "javascript": "DisplayMagics",
                "latex": "DisplayMagics",
                "svg": "DisplayMagics",
                "html": "DisplayMagics",
                "markdown": "DisplayMagics",
                "prun": "ExecutionMagics",
                "debug": "ExecutionMagics",
                "timeit": "ExecutionMagics",
                "time": "ExecutionMagics",
                "capture": "ExecutionMagics",
                "sx": "OSMagics",
                "system": "OSMagics",
                "!": "OSMagics",
                "writefile": "OSMagics",
                "script": "ScriptMagics",
                "sh": "Other",
                "bash": "Other",
                "perl": "Other",
                "ruby": "Other",
                "python": "Other",
                "python2": "Other",
                "python3": "Other",
                "pypy": "Other",
                "SVG": "Other",
                "HTML": "Other",
                "file": "Other",
                "bigquery": "Other",
                "shell": "Other"
              }
            }
          },
          "metadata": {},
          "execution_count": 22
        }
      ]
    },
    {
      "cell_type": "markdown",
      "source": [
        "## Importing Gist in Notebook"
      ],
      "metadata": {
        "id": "_joBDrdZXyC1"
      }
    },
    {
      "cell_type": "markdown",
      "source": [
        "If you want to run multiple nootebooks at the same time or you just dont want to have repeated code across multiple notebooks - You can create github gist with all of functions, classes  that you want to reuse often in many notebooks and import it in notebook.\n",
        "\n",
        "**Steps:**\n",
        "1.   Download notebook as .py file\n",
        "2.   Create new Github Gist and paste .py file or copy code in it(or just write your code)\n",
        "3.   Make sure that you put .py extension when naming a gist, and make it **public**\n",
        "4.   Click **\"raw\"** and copy URL of raw file\n",
        "5.   In colab write: **!wget -O script_name.py URL_of_RAW_GIST**, This downloads the file and names it script_name.py in your notebook's current working directory.\n",
        "6.   Import file from current working dyrectory with: **import script_name**, or **from script_name import function_name** for importing specific functions or classes\n",
        "7.   **You can edit gist directly just make sure to reload cell with !wget**\n",
        "\n",
        "*   **Note:**\n",
        "Thire are simpler ways of doing all of this like using magic word **%load** etc, but that often doesnt work on google colab.\n",
        "\n",
        "\n"
      ],
      "metadata": {
        "id": "bJM3ARegYCC8"
      }
    },
    {
      "cell_type": "code",
      "source": [
        "%%capture\n",
        "!wget -O package.py https://gist.githubusercontent.com/Jankoetf/6c4ea74b97649d5aa46bb52b9820ab31/raw/1cd6247563f94dde621cf6fe2484d02cc170c2c9/my_script.py\n",
        "import package"
      ],
      "metadata": {
        "id": "hy0u-Fi7L2c8"
      },
      "execution_count": 11,
      "outputs": []
    },
    {
      "cell_type": "code",
      "source": [
        "# !curl just shows code from URL\n",
        "!curl https://gist.githubusercontent.com/Jankoetf/6c4ea74b97649d5aa46bb52b9820ab31/raw/1cd6247563f94dde621cf6fe2484d02cc170c2c9/my_script.py"
      ],
      "metadata": {
        "colab": {
          "base_uri": "https://localhost:8080/"
        },
        "id": "dA6_WAvL5Xm9",
        "outputId": "674662d8-c9d7-4f03-d7fa-5266121993c4"
      },
      "execution_count": 17,
      "outputs": [
        {
          "output_type": "stream",
          "name": "stdout",
          "text": [
            "def hello_world():\n",
            "    print(\"Hello world\")"
          ]
        }
      ]
    },
    {
      "cell_type": "code",
      "source": [
        "package.hello_world()"
      ],
      "metadata": {
        "colab": {
          "base_uri": "https://localhost:8080/"
        },
        "id": "1uAHLaMDl96C",
        "outputId": "32c7d754-cecb-4363-a08f-49b2a6496e6f"
      },
      "execution_count": 13,
      "outputs": [
        {
          "output_type": "stream",
          "name": "stdout",
          "text": [
            "Hello world\n"
          ]
        }
      ]
    }
  ]
}